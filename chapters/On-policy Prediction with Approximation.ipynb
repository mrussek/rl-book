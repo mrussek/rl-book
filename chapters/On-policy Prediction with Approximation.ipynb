{
 "cells": [
  {
   "cell_type": "markdown",
   "metadata": {},
   "source": [
    "# On-policy Prediction with Approximation\n",
    "\n",
    "Approximate value function $v_\\pi$ with $\\hat{v}(s, \\mathbf{w}) \\approx v_\\pi(s)$, where $\\mathbf{w} \\in \\mathbb{R}^d$, and $d \\ll |\\mathscr{S}|$. Because we cannot memorize a value for every state, the approximate value function must learn to _generalize_ and learn the value of previously unseen states.\n",
    "\n",
    "Learning a value function makes RL techniques also apply to partially observable problems (POMDPs), since the features available to the value function may only consist of the observable features.\n",
    "\n",
    "However, a value function approximator does not guarantee that the history of the state is accounted for.\n",
    "\n",
    "# 9.1 Value-function Approximation\n",
    "\n",
    "Individual update $s \\mapsto u$. Use supervised learning using update targets $\\{ s_i \\mapsto u_i \\}$ as a dataset.\n",
    "\n",
    "Must be able to learn incrementally, and handle a moving target since $\\pi$ changes with $q_\\pi$\n",
    "\n",
    "# 9.2 The Prediction Objective ($\\mathrm{\\overline{VE}}$)\n",
    "\n",
    "Value function updates affect the prediction for multiple states.\n",
    "\n",
    "It may not be possible to exactly predict the value of every state.\n",
    "\n",
    "Assuming undercapacity to learn exact value function.\n",
    "\n",
    "Specify a distribution over states $\\mu(s)$ $\\sum_s{\\mu(s)} = 1$\n",
    "\n",
    "\n",
    "_Mean squared value error_ : $\\mathrm{\\overline{VE}}$\n",
    "\n",
    "$$\n",
    "\\begin{align}\n",
    "\\mathrm{\\overline{VE}}(\\mathbf{w})& \\; \\dot{=} \\; \\mathbb{E}_{S\\sim\\mu}\\left[\\left(v_\\pi(S) - \\hat{v}(S, \\mathbf{w})\\right)^2\\right]\\\\\n",
    "&= \\sum_{s\\in\\mathscr{S}}{\\mu(s)\\left(v_\\pi(s) - \\hat{v}(s, \\mathbf{w})^2\\right)}\n",
    "\\end{align}\n",
    "$$\n",
    "\n",
    "$\\sqrt{\\mathrm{\\overline{VE}}}$ is a measure of the typical deviation between the true value and the approximated value. $\\mu(s)$ is typically chosen to be or to approximate the fraction of time the agent reaches $s$, and is called the _on-policy distribution_.\n",
    "\n",
    "**The on-policy distribution in episodic tasks**\n",
    "\n",
    "Let the initial state distribution be $S_0 \\sim h$ and $\\eta(s)$ be the average number of time steps spent in state $s$ in a single episode.\n",
    "\n",
    "$$\n",
    "\\eta(s) = h(s) + \\sum_{s'\\in\\mathscr{S}, a\\in\\mathscr{A}(s')}\\eta(s')p(s\\mid a, s') \\pi(a\\mid s')\n",
    "$$\n",
    "\n",
    "This can be thought of as a dynamic programming equation for the number of visits to a state $s$. It can be solved and normalized to give $\\mu$\n",
    "\n",
    "$$\n",
    "\\mu(s) = \\frac{\\eta(s)}{\\sum_{s'}{\\eta(s')}}\n",
    "$$\n",
    "\n",
    "Discounting can be added by multiplying the second term of the recurrence equation for $\\eta(s)$ by $\\gamma$.\n",
    "\n",
    "In continuing tasks, the on-policy distribution is the stationary distribution of states under policy $\\pi$.\n",
    "\n",
    "$$\n",
    "\\mu(s) = \\sum_{s'\\in\\mathscr{S},a\\in\\mathscr{A}(s')}{\\mu(s')\\pi(a\\mid s')p(s \\mid s', a)}\n",
    "$$\n",
    "\n",
    "Ideally, we would want to find a global optimum for $\\mathrm{\\overline{VE}}$, that is, a weight vector $\\mathbf{w}^*$ such that:\n",
    "\n",
    "$$\n",
    "\\mathrm{\\overline{VE}}(\\mathbf{w}^*) \\le \\mathrm{\\overline{VE}}(\\mathbf{w}) \\quad \\mathrm{for\\,all} \\; \\mathbf{w} \\in \\mathbb{R}^d\n",
    "$$\n",
    "\n",
    "This is not always possible for complex hypothesis classes. We can however find _local_ optima for these cases. No guarantee for convergence to a global optimum, or even within a bound of the optimum. Can even diverge.\n",
    "\n",
    "Not all function approximation schemes can be considered here, so we limit ourselves to gradient based methods, particularly linear ones.\n",
    "\n",
    "## Stochastic-gradient and Semi-gradient Methods\n",
    "\n",
    "Consider a fixed size weight vector $\\mathbf{w} = \\begin{pmatrix} w_1 & w_2 & w_3 & \\dots & w_d\\end{pmatrix}^T$. Suppose further that $v(s, \\mathbf{w})$ is a differentiable function of $\\mathbf{w}$ at all states $s$. We will be incrementally updating an estimate of $\\mathbf{w}$, starting at some initial estimate $\\mathbf{w}_0$, in order to form the sequence $\\mathbf{w}_t$ for $t = 0, 1, 2, \\dots$. We observe a new sample state $S_t$ on each time step, and it's true value under the current policy. To select $\\mathbf{w}$, we perform stochastic gradient descent as follows:\n",
    "\n",
    "$$\n",
    "\\begin{align}\n",
    "\\mathbf{w}_{t+1} & \\; \\dot{=} \\; \\mathbf{w}_t - \\frac{1}{2}\\alpha\\nabla_\\mathbf{w}\\left[v_\\pi(S_t) - \\hat{v}(S_t, \\mathbf{w_t})\\right]^2\\\\\n",
    "&= \\mathbf{w}_t + \\alpha\\left(v_\\pi(S_t) - \\hat{v}(S_t, \\mathbf{w}_t)\\right)\\nabla_{\\mathbf{w}}\\hat{v}(S_t, \\mathbf{w}_t)\n",
    "\\end{align}\n",
    "$$\n",
    "\n",
    "where $\\nabla_\\mathbf{w} f(\\mathbf{w}) = \\begin{pmatrix} \\frac{\\partial f}{\\partial w_1} & \\frac{\\partial f}{\\partial w_2} & \\dots & \\frac{\\partial f}{\\partial w_d} \\end{pmatrix}\\$\n",
    "\n",
    "We do not attempt zero out the error on the example since we need to balance other states. Additionally, there is no guarantee that the error on this particular state will be made zero by moving in the gradient direction.\n",
    "\n",
    "Stochastic descent only converges when the step-size decreases over time such that:\n",
    "\n",
    "$$\n",
    "\\sum_t{\\alpha_t} = \\infty \\quad \\sum_t{\\alpha_t^2} = 0\n",
    "$$\n",
    "\n",
    "Now consider the case where $v_\\pi(s)$ is unavailable, and instead only one of the bootstrap targets, or an otherwise corrupted form of $v_\\pi(s)$, is available. We call this value $U_t$ as in the earlier section. By substituting $v_\\pi(s)$ with $U_t$, we get the update step for gradient based value estimation:\n",
    "\n",
    "$$\n",
    "\\mathbf{w}_{t+1} = \\mathbf{w}_t + \\left(U_t - \\hat{v}(S_t, \\mathbf{w}_t)\\right)\\nabla_{\\mathbf{w}}{\\hat{v}(S_t, \\mathbf{w})}\n",
    "$$\n",
    "\n",
    "If we select $U_t = G_t$, we get _Gradient Monte-Carlo Value Estimation_.\n",
    "\n",
    "Note however that if we were to have used a bootstrapped estimate such as:\n",
    "\n",
    "$$\n",
    "U_t = R_t + \\gamma \\hat{v}(S_{t+1}, \\mathbf{w})\n",
    "$$\n",
    "\n",
    "will depend on the current value of $\\mathbf{w}$ and therefore be _biased estimators_ of $v_\\pi$, and so convergence is not guaranteed. Therefore, gradient bootstrapping methods are _not_ technically gradient descent methods, as our estimator is not guaranteed to have the true value of the gradient as its expectation. They account only for the participation of $\\mathbf{w}$ on the right hand side of the difference, but not for the update in the target. Therefore, they only include part of the gradient and are called _semi-gradient_ methods.\n",
    "\n",
    "Despite this, semi-gradient methods still converge robustly, can be used on continuing problems, and converge more quickly than Monte-Carlo methods for the reasons discussed in Chapter 6.\n",
    "\n",
    "### State aggregation\n",
    "\n",
    "State aggregation assigns one estimated value (and thus a component of $\\mathbf{w}$ to an entire collection of states. So long as the partitioning of states is computable, state aggregation can be used with stochastic gradient descent.\n",
    "\n",
    "**Example: 1000 State Random "
   ]
  },
  {
   "cell_type": "code",
   "execution_count": 28,
   "metadata": {},
   "outputs": [
    {
     "data": {
      "text/plain": [
       "state_aggregation_gradient_mc (generic function with 1 method)"
      ]
     },
     "execution_count": 28,
     "metadata": {},
     "output_type": "execute_result"
    }
   ],
   "source": [
    "function state_aggregation_gradient_mc(;size=1000, N=1, d=10, α=2e-5)\n",
    "    𝒮 = 1:size\n",
    "    bucket_size = size ÷ d\n",
    "    V = zeros(d)\n",
    "    for i in 1:N\n",
    "        S = Int[]\n",
    "        s = size ÷ 2\n",
    "        println(\"iter $(i)\")\n",
    "        while s in 𝒮\n",
    "            push!(S, s)\n",
    "            lr = rand() < 0.5 ? -1 : 1\n",
    "            sp = s + lr * rand(1:100)\n",
    "            if sp > 1000\n",
    "                println(\"End right\")\n",
    "                sp = 1001\n",
    "                r = 1\n",
    "            elseif sp < 1\n",
    "                println(\"End left\")\n",
    "                sp = 0\n",
    "                r = -1\n",
    "            end\n",
    "            s = sp\n",
    "        end\n",
    "            \n",
    "        for s in reverse(S)\n",
    "            V[s ÷ bucket_size] += α*(r - V[s ÷ bucket_size])\n",
    "        end\n",
    "    end\n",
    "    \n",
    "    return V\n",
    "end"
   ]
  },
  {
   "cell_type": "code",
   "execution_count": 29,
   "metadata": {},
   "outputs": [
    {
     "name": "stdout",
     "output_type": "stream",
     "text": [
      "iter 1\n",
      "End left\n"
     ]
    },
    {
     "ename": "LoadError",
     "evalue": "BoundsError: attempt to access 10-element Vector{Float64} at index [0]",
     "output_type": "error",
     "traceback": [
      "BoundsError: attempt to access 10-element Vector{Float64} at index [0]",
      "",
      "Stacktrace:",
      " [1] getindex",
      "   @ ./array.jl:861 [inlined]",
      " [2] state_aggregation_gradient_mc(; size::Int64, N::Int64, d::Int64, α::Float64)",
      "   @ Main ./In[28]:26",
      " [3] state_aggregation_gradient_mc()",
      "   @ Main ./In[28]:2",
      " [4] top-level scope",
      "   @ In[29]:1",
      " [5] eval",
      "   @ ./boot.jl:373 [inlined]",
      " [6] include_string(mapexpr::typeof(REPL.softscope), mod::Module, code::String, filename::String)",
      "   @ Base ./loading.jl:1196"
     ]
    }
   ],
   "source": [
    "state_aggregation_gradient_mc()"
   ]
  },
  {
   "cell_type": "markdown",
   "metadata": {},
   "source": [
    "## Linear Methods\n",
    "\n",
    "We consider the case where $\\hat{v}(s, \\mathbf{w})$ is linear in $\\mathbf{w}$. We assume that for each state there is a feature vector $\\mathbf{x}(s) \\in \\mathbb{R}^d$. We can then define:\n",
    "\n",
    "$$\n",
    "\\hat{v}(s, \\mathbf{w})) = \\mathbf{w}^\\top\\mathbf{x}(s)\n",
    "$$\n",
    "\n",
    "In this case the gradient expression is incredibly simple:\n",
    "\n",
    "$$\n",
    "\\nabla_{\\mathbf{w}}v(s, w) = \\mathbf{x}(s)\n",
    "$$\n",
    "\n",
    "And so we have as our update:\n",
    "\n",
    "$$\n",
    "\\mathbf{w}_{t+1} = \\mathbf{w}_t + \\alpha\\left(U_t - \\mathbf{w}^\\top\\mathbf{x}(s)\\right)\\mathbf{x}(s)\n",
    "$$\n",
    "\n",
    "Guaranteed to converge to a _global_ optimum\n",
    "\n",
    "> _Exercise 9.1_ Show that tabular methods such as presented in Part I of this book are a special case of linear function approximation. What would the feature vectors be?\n",
    "\n",
    "It is a special case of linear function approximation where, for every state $s_i$ \n",
    "\n",
    "$$\n",
    "x_i(s) = \\begin{cases} 1 & s = s_i \\\\ 0 & \\mathrm{otherwise} \\end{cases}\n",
    "$$\n",
    "\n",
    "This works for cases where $|\\mathscr{S}| < \\infty$."
   ]
  },
  {
   "cell_type": "markdown",
   "metadata": {},
   "source": [
    "# 9.5 Feature Construction for Linear Methods\n",
    "\n",
    "> _Exercise 9.2_ Why does (9.17) define $(n+1)^k$ distinct features for dimension $k$?\n",
    "\n",
    "It defines $(n+1)^k$ features because a feature will be defined by a selection of exponents on each of the $k$ state variables. Since there are $n + 1$ available exponents (including zero), the total number of features is $(n + 1)^k$\n",
    "\n",
    "> _Exercise 9.3_ What $n$ and $c_{i,j}$ produce the feature vectors $\\mathbf{x}(s) = \\begin{pmatrix} 1 & s_1 & s_2 & s_1 s_2 & s_1^2 & s_2^2 & s_1 s_2^2 & s_1^2 s_2 & s_1^2 s_2^2 \\end{pmatrix}$\n",
    "\n",
    "$n = 2$ and\n",
    "\n",
    "$$\n",
    "c = \\begin{pmatrix} 0 & 0 \\\\ 1 & 0 \\\\ 0 & 1 \\\\ 1 & 1 \\\\ 2 & 0 \\\\ 0 & 2 \\\\ 2 & 2 \\end{pmatrix}\n",
    "$$\n",
    "\n",
    "# 9.5.4 Tile Coding\n",
    "\n",
    "> _Exercise 9.4_ Suppose we believe that one of two state dimensions is more likely to have an effect on the value function than is the other, that generalization should be primarily across this dimension than along it. What kind of tilings could be used to take advantage of this prior knowledge?\n",
    "\n",
    "One could use tiles that are asymmetrically elongated along the dimension that we expect to have less of an effect. This increases the scale of generalization along that dimension and leads to the overall value of that feature being learned more quickly but with less precision.\n",
    "\n",
    "# 9.5.5 Radial Basis Functions\n",
    "\n",
    "Use as features $x_i(s) \\;\\dot{=}\\; \\exp\\left(-\\frac{\\|s-c_i\\|^2}{2\\sigma_i}\\right)$ for fixed centers $c_i$ and standard deviations $\\sigma_i$.\n",
    "\n",
    "# 9.6 Selecting Step-Size Parameters Manually\n",
    "\n",
    "> _Exercise 9.6_ Suppose you are using tile coding to transform a seven-dimensional continuous state space into binary feature vectors to estimate a state value function $v(s,\\mathbf{w}) \\approx v_\\pi(s)$. You believe that the dimensions do not interact strongly, so you decide to use eight tilings of each dimension separately (stripe tilings), for $7 \\times 8 = 56$ tilings. In addition, in case there are some pairwise interactions between the dimensions, you also take all $\\begin{pmatrix} 7 \\\\ 2 \\end{pmatrix} = 21$ pairs of dimensions and tile each pair conjunctively with rectangular tiles. You make two tilings for each pair of dimensions, making a grand total of $21 \\times 2 + 56 = 98$ tilings. Given these feature vectors, you suspect that you still have to average out some noise, so you decide that you want learning to be gradual, taking about 10 presentations with the same feature vector before learning nears its asymptote. What step-size parameter should you use? Why?\n",
    "\n",
    "Since $\\mathbf{x}(s)$ will have a component $x_j(s) = 1$ for each tiling, and there are 98 separate tilings, each vector will have $\\|\\mathbf{x}\\|^2 = 98$. According to the rule (9.19), we select $\\alpha$ as\n",
    "\n",
    "$$\n",
    "\\begin{align}\n",
    "\\alpha &= \\left(\\tau\\mathbb{E}[\\mathbf{x}^\\top\\mathbf{x}]\\right)^{-1}\\\\\n",
    "&= \\left(10 \\cdot 98 \\right)^{-1}\\\\\n",
    "&= \\frac{1}{980}\n",
    "\\end{align}\n",
    "$$\n",
    "\n",
    "> _Exercise 9.6_ If $\\tau = 1$ and $\\mathbf{x}(S_t)^\\top\\mathbf{x} = \\mathbb{E}[\\mathbf{x}^\\top\\mathbf{x}]$, prove that (9.19) together with (9.7) and linear function approximation results in the error being reduced to zero in one update.\n",
    "\n",
    "Recall (9.7)\n",
    "\n",
    "$$\n",
    "\\begin{align}\n",
    "\\mathbf{w}_{t+1} &= \\mathbf{w}_t + \\alpha\\left[U_t - \\hat{v}(S_t, \\mathbf{w}_t)\\right]\\nabla\\hat{v}(S_t, \\mathbf{w}_t)\\\\\\\\\n",
    "&= \\mathbf{w}_t + \\frac{1}{\\tau\\mathbf{x}^\\top\\mathbf{x}}\\left[U_t - \\mathbf{w}^\\top\\mathbf{x}\\right]\\mathbf{x}\n",
    "\\end{align}\n",
    "$$\n",
    "\n",
    "And compute:\n",
    "\n",
    "$$\n",
    "\\begin{align}\n",
    "\\mathbf{w}_{t+1}^\\top\\mathbf{x} &= \\mathbf{x}^\\top\\left(\\mathbf{w}_t + \\frac{1}{\\tau\\mathbf{x}^\\top\\mathbf{x}}\\left[U_t - \\mathbf{w}^\\top\\mathbf{x}\\right]\\mathbf{x}\\right)\\\\\\\\\n",
    "&= \\mathbf{x}^\\top\\mathbf{w}_t + \\frac{1}{\\mathbf{x}^\\top\\mathbf{x}}\\left[U_t - \\mathbf{w}^\\top\\mathbf{x}\\right]\\mathbf{x}^\\top\\mathbf{x}\\\\\\\\\n",
    "&= U_t\n",
    "\\end{align}\n",
    "$$"
   ]
  },
  {
   "cell_type": "code",
   "execution_count": 1,
   "metadata": {},
   "outputs": [
    {
     "data": {
      "text/plain": [
       "1000×10 Matrix{Float64}:\n",
       "  1.06247      1.56691    0.993008   …   0.282672    0.728993     1.03661\n",
       " -0.172078    -1.40331    0.0500425      1.7024     -0.518671    -1.56776\n",
       " -0.723685    -1.09834    2.5193        -0.757337   -1.50908     -0.251429\n",
       " -1.10623     -1.84087    1.77786        0.610207    1.54883     -2.35321\n",
       " -1.63846     -1.45454    0.795906      -0.221461   -0.205146    -0.496482\n",
       "  0.173946     1.12732    1.21284    …  -0.344975    1.26145     -0.577963\n",
       " -0.0607236   -0.37007    0.654707       0.0395516  -0.842974    -0.339456\n",
       " -0.755839     0.459805  -0.500829      -0.157568   -0.154092    -0.702444\n",
       " -0.336127    -1.69283   -0.338961       1.81823     0.245318    -0.278454\n",
       "  1.22818     -0.609106   0.25639        1.05115    -1.35119     -0.403135\n",
       " -0.537323     1.38656    0.856401   …  -1.53905    -1.25833     -0.297074\n",
       " -1.99471     -0.888106  -0.723359       0.755329   -0.882116    -1.645\n",
       " -1.17834     -1.45449    0.563329       0.095328    2.04182     -0.344908\n",
       "  ⋮                                  ⋱                           \n",
       " -0.40919      0.22755    0.218017       0.377593   -0.244389     2.19411\n",
       "  0.127505    -0.304755   0.0065538      0.900753   -0.016999    -0.856428\n",
       "  0.0813895    1.12676    0.510144   …   0.304322   -0.413354     0.259065\n",
       " -0.00768985   2.11258    0.594814      -0.220381   -0.260394    -0.222838\n",
       "  0.160506     0.512363  -0.137866       1.30653     0.274539     0.95282\n",
       "  0.30586      0.498409  -0.678484       1.37556    -0.554652    -0.303266\n",
       " -0.34029     -0.567023   1.03717       -0.523738   -0.951437    -1.09731\n",
       "  0.901257     1.2201     0.062328   …   1.11683    -1.1456      -1.65143\n",
       " -1.11466      0.198363   0.686264      -1.60585    -0.127019     1.44096\n",
       " -0.473196     1.37614    0.647875      -1.33934    -2.29211      0.250884\n",
       " -1.69145     -0.323707   0.188757       0.845502   -0.382228    -0.240657\n",
       "  1.18121      0.558684   0.271781      -1.31996    -0.00560219   1.03714"
      ]
     },
     "execution_count": 1,
     "metadata": {},
     "output_type": "execute_result"
    }
   ],
   "source": [
    "X = randn(1000, 10)"
   ]
  },
  {
   "cell_type": "code",
   "execution_count": 3,
   "metadata": {},
   "outputs": [
    {
     "data": {
      "text/plain": [
       "1000-element Vector{Float64}:\n",
       " -0.7413358218242678\n",
       " -0.3203947098503924\n",
       " -0.48140262170152087\n",
       " -1.5267360760388147\n",
       " -1.7436763967986015\n",
       " -0.8605451423222329\n",
       "  1.32637735764156\n",
       " -1.8047280121495013\n",
       "  0.43683207355916137\n",
       "  0.08778762585577046\n",
       " -1.2437287360314655\n",
       " -0.4942396453138762\n",
       " -0.3663208510228378\n",
       "  ⋮\n",
       "  0.5350302599163258\n",
       " -0.2502198399827746\n",
       " -1.3419662266422365\n",
       " -0.6153265711407515\n",
       " -0.8670341193371606\n",
       "  0.9433348550481715\n",
       " -0.5672025680115018\n",
       " -1.1774948253913893\n",
       " -1.6475485890688273\n",
       "  1.2028549061689007\n",
       "  1.713733236479457\n",
       " -0.2570203866661604"
      ]
     },
     "execution_count": 3,
     "metadata": {},
     "output_type": "execute_result"
    }
   ],
   "source": [
    "R = randn(1000)"
   ]
  },
  {
   "cell_type": "code",
   "execution_count": 12,
   "metadata": {},
   "outputs": [
    {
     "data": {
      "text/plain": [
       "1000×10 Matrix{Float64}:\n",
       " -0.172078    -1.40331    0.0500425  …   1.7024     -0.518671    -1.56776\n",
       " -0.723685    -1.09834    2.5193        -0.757337   -1.50908     -0.251429\n",
       " -1.10623     -1.84087    1.77786        0.610207    1.54883     -2.35321\n",
       " -1.63846     -1.45454    0.795906      -0.221461   -0.205146    -0.496482\n",
       "  0.173946     1.12732    1.21284       -0.344975    1.26145     -0.577963\n",
       " -0.0607236   -0.37007    0.654707   …   0.0395516  -0.842974    -0.339456\n",
       " -0.755839     0.459805  -0.500829      -0.157568   -0.154092    -0.702444\n",
       " -0.336127    -1.69283   -0.338961       1.81823     0.245318    -0.278454\n",
       "  1.22818     -0.609106   0.25639        1.05115    -1.35119     -0.403135\n",
       " -0.537323     1.38656    0.856401      -1.53905    -1.25833     -0.297074\n",
       " -1.99471     -0.888106  -0.723359   …   0.755329   -0.882116    -1.645\n",
       " -1.17834     -1.45449    0.563329       0.095328    2.04182     -0.344908\n",
       " -1.5602       1.35537    1.34052        1.15055    -0.91213     -0.710362\n",
       "  ⋮                                  ⋱                           \n",
       "  0.127505    -0.304755   0.0065538      0.900753   -0.016999    -0.856428\n",
       "  0.0813895    1.12676    0.510144       0.304322   -0.413354     0.259065\n",
       " -0.00768985   2.11258    0.594814   …  -0.220381   -0.260394    -0.222838\n",
       "  0.160506     0.512363  -0.137866       1.30653     0.274539     0.95282\n",
       "  0.30586      0.498409  -0.678484       1.37556    -0.554652    -0.303266\n",
       " -0.34029     -0.567023   1.03717       -0.523738   -0.951437    -1.09731\n",
       "  0.901257     1.2201     0.062328       1.11683    -1.1456      -1.65143\n",
       " -1.11466      0.198363   0.686264   …  -1.60585    -0.127019     1.44096\n",
       " -0.473196     1.37614    0.647875      -1.33934    -2.29211      0.250884\n",
       " -1.69145     -0.323707   0.188757       0.845502   -0.382228    -0.240657\n",
       "  1.18121      0.558684   0.271781      -1.31996    -0.00560219   1.03714\n",
       " -0.334365     0.45762   -1.10657       -1.05472     0.731406     0.0857916"
      ]
     },
     "execution_count": 12,
     "metadata": {},
     "output_type": "execute_result"
    }
   ],
   "source": [
    "Xp = vcat(X[2:1000,:], randn(10)')"
   ]
  },
  {
   "cell_type": "code",
   "execution_count": null,
   "metadata": {},
   "outputs": [],
   "source": [
    "X * w ≈ R + γ*Xp*w"
   ]
  },
  {
   "cell_type": "code",
   "execution_count": 13,
   "metadata": {},
   "outputs": [
    {
     "data": {
      "text/plain": [
       "0.99"
      ]
     },
     "execution_count": 13,
     "metadata": {},
     "output_type": "execute_result"
    }
   ],
   "source": [
    "γ = 0.99"
   ]
  },
  {
   "cell_type": "code",
   "execution_count": 14,
   "metadata": {},
   "outputs": [
    {
     "data": {
      "text/plain": [
       "1000×10 Matrix{Float64}:\n",
       "  1.23283     2.9562      0.943466   …  -1.4027      1.24248    2.5887\n",
       "  0.54437    -0.315956   -2.44407        2.45216     0.97532   -1.31885\n",
       "  0.371481    0.724124    0.759224      -1.36144    -3.04243    2.07825\n",
       "  0.515843   -0.400876    0.989912       0.829453    1.75193   -1.86169\n",
       " -1.81066    -2.57059    -0.404806       0.120064   -1.45398    0.0757019\n",
       "  0.234063    1.49369     0.564681   …  -0.384131    2.09599   -0.241902\n",
       "  0.687557   -0.825277    1.15053        0.195544   -0.690422   0.355963\n",
       " -0.423073    2.1357     -0.165258      -1.95761    -0.396958  -0.426774\n",
       " -1.55202    -1.08981    -0.592786       0.777591    1.58299    0.12065\n",
       "  1.76013    -1.9818     -0.591447       2.57481    -0.105444  -0.109031\n",
       "  1.43744     2.26579     1.57253    …  -2.28682    -0.385031   1.33147\n",
       " -0.828159    0.55184    -1.28105        0.660955   -2.90352   -1.30354\n",
       "  0.366266   -2.79631    -0.76379       -1.04371     2.94483    0.35835\n",
       "  ⋮                                  ⋱                         \n",
       " -0.53542     0.529258    0.211528      -0.514152   -0.22756    3.04198\n",
       "  0.0469299  -1.42025    -0.498489       0.599474    0.392222  -1.1129\n",
       "  0.0890024  -0.964692   -0.0787217  …   0.522499   -0.155564   0.479675\n",
       " -0.16659     1.60534     0.731301      -1.51385    -0.532188  -1.16613\n",
       " -0.142296    0.0189377   0.533834      -0.0552708   0.823645   1.25305\n",
       "  0.642747    1.05976    -1.70529        1.89406     0.387271   0.783074\n",
       " -1.23253    -1.77492     0.97547       -1.6294      0.18271    0.537605\n",
       "  2.00477     1.02372    -0.617074   …   2.70663    -1.01985   -3.07798\n",
       " -0.646194   -1.16402     0.0448679     -0.279908    2.14217    1.19259\n",
       "  1.20134     1.69661     0.461006      -2.17639    -1.9137     0.489134\n",
       " -2.86084    -0.876804   -0.0803063      2.15226    -0.376681  -1.26742\n",
       "  1.51223     0.10564     1.36729       -0.275784   -0.729694   0.952205"
      ]
     },
     "execution_count": 14,
     "metadata": {},
     "output_type": "execute_result"
    }
   ],
   "source": [
    "Xt = (X - γ*Xp) "
   ]
  },
  {
   "cell_type": "code",
   "execution_count": 22,
   "metadata": {},
   "outputs": [
    {
     "data": {
      "text/plain": [
       "10-element Vector{Float64}:\n",
       " -0.013128026267483738\n",
       " -0.0016226516046837886\n",
       "  0.001745169297961782\n",
       " -0.027207828847988714\n",
       "  0.009408678268168017\n",
       "  0.001101334936732768\n",
       " -0.04157798160540794\n",
       " -0.03810622092191169\n",
       " -0.036677485542707354\n",
       "  0.006999798673187679"
      ]
     },
     "execution_count": 22,
     "metadata": {},
     "output_type": "execute_result"
    }
   ],
   "source": [
    "Xt' * Xt \\ (Xt' * R)"
   ]
  },
  {
   "cell_type": "markdown",
   "metadata": {},
   "source": [
    "# 9.7 Nonlinear Function Approximation: Artificial Neural Networks"
   ]
  },
  {
   "cell_type": "markdown",
   "metadata": {},
   "source": [
    "# 9.8 Least-Squares TD\n",
    "\n",
    "Recall "
   ]
  },
  {
   "cell_type": "markdown",
   "metadata": {},
   "source": [
    "# 9.12 Summary\n",
    "\n",
    "> _Exercise 9.7_ One of the simplest artificial neural networks consists of a single semi-linear unit with a logistic nonlinearity. The need to handle approximate value functions of this form is common in games that end with either a win or a loss, in which case the value of a state can be interpreted as the probability of winning. Derive the learning algorithm for this case, from (9.7), such that no gradient notation appears.\n",
    "\n",
    "A single linear function following by the logistic linearity will have gradient:\n",
    "\n",
    "$$\n",
    "\\begin{align}\n",
    "\\nabla_\\mathbf{w}\\sigma(\\mathbf{w}^\\top\\mathbf{x}) &= \\sigma'(\\mathbf{w}^\\top\\mathbf{x})\\nabla_\\mathbf{w}\\mathbf{w}^\\top\\mathbf{x} = \\sigma(\\mathbf{w}^\\top\\mathbf{x})(1 - \\sigma(\\mathbf{w}^\\top\\mathbf{x}))\\mathbf{x}\\\\\n",
    "\\end{align}\n",
    "$$\n",
    "\n",
    "Thus substituting $\\hat{v}(s, \\mathbf{w}) = \\sigma(\\mathbf{w}^\\top\\mathbf{x}(s))$, we have for our learning rule:\n",
    "\n",
    "$$\n",
    "\\mathbf{w}_{t+1} = \\mathbf{w}_t + \\alpha\\left[U_t - \\sigma(\\mathbf{w}^\\top\\mathbf{x})\\right]\\sigma(\\mathbf{w}^\\top\\mathbf{x})(1 - \\sigma(\\mathbf{w}^\\top\\mathbf{x}))\\mathbf{x}\n",
    "$$\n",
    "\n",
    "> _Exercise 9.8_ Arguably, the squared error used to derive (9.7) is inappropriate for the case treated in the preceding exercise, and the right error measure is the cross-entropy loss (which you can find on Wikipedia). Repeat the derivation in Section 9.3, using the cross-entropy loss instead of the squared error in (9.4), all the way to an explicit form with no gradient or logarithm notation in it. Is your final form more complex, or simpler, than that you obtained in the preceding exercise?\n",
    "\n",
    "$$\n",
    "\\begin{align}\n",
    "\\mathbf{w}_{t+1} &= \\mathbf{w}_t - \\alpha\\nabla\\left[-U_t\\log{\\sigma(\\mathbf{w}^\\top\\mathbf{x})} - (1 - U_t)\\log{\\sigma(-\\mathbf{w}^\\top\\mathbf{x})}\\right]\\\\\\\\\n",
    "&=\\mathbf{w}_t - \\alpha\\left[-U_t\\nabla\\log{\\sigma(\\mathbf{w}^\\top\\mathbf{x})} - (1-U_t)\\nabla\\log{\\sigma(-\\mathbf{w}^\\top\\mathbf{x})}\\right]\\\\\\\\\n",
    "&=\\mathbf{w}_t - \\alpha\\left[-U_t\\frac{\\sigma(\\mathbf{w}^\\top\\mathbf{x})(1 - \\sigma(\\mathbf{w}^\\top\\mathbf{x}))\\mathbf{x}}{\\sigma(\\mathbf{w}^\\top\\mathbf{x})} + (1-U_t)\\frac{\\sigma(\\mathbf{w}^\\top\\mathbf{x})(1 - \\sigma(\\mathbf{w}^\\top\\mathbf{x}))\\mathbf{x}}{\\sigma(-\\mathbf{w}^\\top\\mathbf{x})}\\right]\\\\\\\\\n",
    "&=\\mathbf{w}_t - \\alpha\\left[-U_t\\frac{\\sigma(\\mathbf{w}^\\top\\mathbf{x})(1 - \\sigma(\\mathbf{w}^\\top\\mathbf{x}))\\mathbf{x}}{\\sigma(\\mathbf{w}^\\top\\mathbf{x})} + (1-U_t)\\frac{\\sigma(\\mathbf{w}^\\top\\mathbf{x})(1 - \\sigma(\\mathbf{w}^\\top\\mathbf{x}))\\mathbf{x}}{\\sigma(-\\mathbf{w}^\\top\\mathbf{x})}\\right]\n",
    "\\end{align}\n",
    "$$"
   ]
  }
 ],
 "metadata": {
  "kernelspec": {
   "display_name": "Julia 1.7.2",
   "language": "julia",
   "name": "julia-1.7"
  },
  "language_info": {
   "file_extension": ".jl",
   "mimetype": "application/julia",
   "name": "julia",
   "version": "1.7.2"
  }
 },
 "nbformat": 4,
 "nbformat_minor": 2
}
