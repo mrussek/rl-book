{
 "cells": [
  {
   "cell_type": "markdown",
   "id": "0b9c2943",
   "metadata": {},
   "source": [
    "# Chapter 8\n",
    "\n",
    "## 8.1 Models and Planning\n",
    "\n",
    "## 8.2 Dyna: Integrated Planning, Acting and Learning"
   ]
  },
  {
   "cell_type": "code",
   "execution_count": 40,
   "id": "6deab4d9",
   "metadata": {},
   "outputs": [
    {
     "data": {
      "text/plain": [
       "false"
      ]
     },
     "execution_count": 40,
     "metadata": {},
     "output_type": "execute_result"
    }
   ],
   "source": [
    "(6, 2) in 𝓢"
   ]
  },
  {
   "cell_type": "code",
   "execution_count": 45,
   "id": "3aecd7a5",
   "metadata": {},
   "outputs": [
    {
     "data": {
      "text/plain": [
       "g (generic function with 1 method)"
      ]
     },
     "execution_count": 45,
     "metadata": {},
     "output_type": "execute_result"
    }
   ],
   "source": [
    "𝓐 = [ :left, :up, :right, :down ]\n",
    "𝓢 = setdiff([ (i, j) for i in 1:9, j in 1:6 ], [(3, i) for i in 3:5], [(8, i) for i in 4:6], [(6, 2)])\n",
    "γ = 0.95\n",
    "\n",
    "function g(s, a)\n",
    "    if a == :left\n",
    "        sp = (clamp(s[1] - 1, 1, 9), s[2])\n",
    "    elseif a == :up\n",
    "        sp = (s[1], clamp(s[2] + 1, 1, 6))\n",
    "    elseif a == :right\n",
    "        sp = (clamp(s[1] + 1, 1, 9), s[2])\n",
    "    elseif a == :down\n",
    "        sp = (s[1], clamp(s[2] - 1, 1, 6))\n",
    "    else\n",
    "        error(\"Not a valid action\")\n",
    "    end\n",
    "    sp = sp in 𝓢 ? sp : s\n",
    "    r = sp == (9, 6) ? 1 : 0\n",
    "    return sp, r\n",
    "end"
   ]
  },
  {
   "cell_type": "code",
   "execution_count": null,
   "id": "78c57ed9",
   "metadata": {},
   "outputs": [],
   "source": [
    "function dyna_q(episodes, n; ε=0.1, α=0.1)\n",
    "    Q = Dict((s, a) => 0.0 for s in 𝓢, a in 𝓐)\n",
    "    model = Dict((s, a) => 0.0, s for s in 𝓢, a in 𝓐)\n",
    "    steps = Int64[]\n",
    "    for episode in 1:episodes\n",
    "        s = rand(setdiff(𝓢, (9,6)))\n",
    "        a = rand() < ε ? rand(𝓐) : argmax(a -> Q[(s, a)], 𝓐)\n",
    "        sp, r = g(s, a)\n",
    "        Q[(s, a)] = Q[(s, a)] + α*(r + γ*max(a -> Q[(s, a)], 𝓐) - Q[(s, a)])\n",
    "        model[(s, a)] = r, sp\n",
    "        for i in 1:n\n",
    "            \n",
    "        end\n",
    "    end\n",
    "end"
   ]
  },
  {
   "cell_type": "markdown",
   "id": "561fc541",
   "metadata": {},
   "source": [
    "## 8.3 When the Model Is Wrong"
   ]
  }
 ],
 "metadata": {
  "kernelspec": {
   "display_name": "Julia 1.7.2",
   "language": "julia",
   "name": "julia-1.7"
  },
  "language_info": {
   "file_extension": ".jl",
   "mimetype": "application/julia",
   "name": "julia",
   "version": "1.7.2"
  }
 },
 "nbformat": 4,
 "nbformat_minor": 5
}
